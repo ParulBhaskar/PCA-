{
 "cells": [
  {
   "cell_type": "code",
   "execution_count": 1,
   "metadata": {},
   "outputs": [],
   "source": [
    "import pandas as pd\n",
    "import numpy as npv"
   ]
  },
  {
   "cell_type": "code",
   "execution_count": 98,
   "metadata": {},
   "outputs": [
    {
     "data": {
      "text/html": [
       "<div>\n",
       "<style scoped>\n",
       "    .dataframe tbody tr th:only-of-type {\n",
       "        vertical-align: middle;\n",
       "    }\n",
       "\n",
       "    .dataframe tbody tr th {\n",
       "        vertical-align: top;\n",
       "    }\n",
       "\n",
       "    .dataframe thead th {\n",
       "        text-align: right;\n",
       "    }\n",
       "</style>\n",
       "<table border=\"1\" class=\"dataframe\">\n",
       "  <thead>\n",
       "    <tr style=\"text-align: right;\">\n",
       "      <th></th>\n",
       "      <th>ITEMS</th>\n",
       "    </tr>\n",
       "  </thead>\n",
       "  <tbody>\n",
       "    <tr>\n",
       "      <th>0</th>\n",
       "      <td>MILK,BREAD,BISCUIT</td>\n",
       "    </tr>\n",
       "    <tr>\n",
       "      <th>1</th>\n",
       "      <td>BREAD,MILK,BISCUIT,CORNFLAKES</td>\n",
       "    </tr>\n",
       "    <tr>\n",
       "      <th>2</th>\n",
       "      <td>BREAD,TEA,BOURNVITA</td>\n",
       "    </tr>\n",
       "    <tr>\n",
       "      <th>3</th>\n",
       "      <td>JAM,MAGGI,BREAD,MILK</td>\n",
       "    </tr>\n",
       "    <tr>\n",
       "      <th>4</th>\n",
       "      <td>MAGGI,TEA,BISCUIT</td>\n",
       "    </tr>\n",
       "  </tbody>\n",
       "</table>\n",
       "</div>"
      ],
      "text/plain": [
       "                           ITEMS\n",
       "0             MILK,BREAD,BISCUIT\n",
       "1  BREAD,MILK,BISCUIT,CORNFLAKES\n",
       "2            BREAD,TEA,BOURNVITA\n",
       "3           JAM,MAGGI,BREAD,MILK\n",
       "4              MAGGI,TEA,BISCUIT"
      ]
     },
     "execution_count": 98,
     "metadata": {},
     "output_type": "execute_result"
    }
   ],
   "source": [
    "df = pd.read_csv(\"GroceryStoreDataSet.csv\",delimiter=',')\n",
    "df.head()\n"
   ]
  },
  {
   "cell_type": "code",
   "execution_count": null,
   "metadata": {},
   "outputs": [],
   "source": [
    "l=[]"
   ]
  },
  {
   "cell_type": "code",
   "execution_count": 99,
   "metadata": {},
   "outputs": [],
   "source": [
    "for i in range(0,len(df['ITEMS'])):\n",
    "    l.append(df['ITEMS'][i].split(\",\"))"
   ]
  },
  {
   "cell_type": "code",
   "execution_count": 100,
   "metadata": {},
   "outputs": [
    {
     "data": {
      "text/plain": [
       "[['MILK', 'BREAD', 'BISCUIT'],\n",
       " ['BREAD', 'MILK', 'BISCUIT', 'CORNFLAKES'],\n",
       " ['BREAD', 'TEA', 'BOURNVITA'],\n",
       " ['JAM', 'MAGGI', 'BREAD', 'MILK'],\n",
       " ['MAGGI', 'TEA', 'BISCUIT'],\n",
       " ['BREAD', 'TEA', 'BOURNVITA'],\n",
       " ['MAGGI', 'TEA', 'CORNFLAKES'],\n",
       " ['MAGGI', 'BREAD', 'TEA', 'BISCUIT'],\n",
       " ['JAM', 'MAGGI', 'BREAD', 'TEA'],\n",
       " ['BREAD', 'MILK'],\n",
       " ['COFFEE', 'COCK', 'BISCUIT', 'CORNFLAKES'],\n",
       " ['COFFEE', 'COCK', 'BISCUIT', 'CORNFLAKES'],\n",
       " ['COFFEE', 'SUGER', 'BOURNVITA'],\n",
       " ['BREAD', 'COFFEE', 'COCK'],\n",
       " ['BREAD', 'SUGER', 'BISCUIT'],\n",
       " ['COFFEE', 'SUGER', 'CORNFLAKES'],\n",
       " ['BREAD', 'SUGER', 'BOURNVITA'],\n",
       " ['BREAD', 'COFFEE', 'SUGER'],\n",
       " ['BREAD', 'COFFEE', 'SUGER'],\n",
       " ['TEA', 'MILK', 'COFFEE', 'CORNFLAKES'],\n",
       " ['MILK', 'BREAD', 'BISCUIT'],\n",
       " ['BREAD', 'MILK', 'BISCUIT', 'CORNFLAKES'],\n",
       " ['BREAD', 'TEA', 'BOURNVITA'],\n",
       " ['JAM', 'MAGGI', 'BREAD', 'MILK'],\n",
       " ['MAGGI', 'TEA', 'BISCUIT'],\n",
       " ['BREAD', 'TEA', 'BOURNVITA'],\n",
       " ['MAGGI', 'TEA', 'CORNFLAKES'],\n",
       " ['MAGGI', 'BREAD', 'TEA', 'BISCUIT'],\n",
       " ['JAM', 'MAGGI', 'BREAD', 'TEA'],\n",
       " ['BREAD', 'MILK'],\n",
       " ['COFFEE', 'COCK', 'BISCUIT', 'CORNFLAKES'],\n",
       " ['COFFEE', 'COCK', 'BISCUIT', 'CORNFLAKES'],\n",
       " ['COFFEE', 'SUGER', 'BOURNVITA'],\n",
       " ['BREAD', 'COFFEE', 'COCK'],\n",
       " ['BREAD', 'SUGER', 'BISCUIT'],\n",
       " ['COFFEE', 'SUGER', 'CORNFLAKES'],\n",
       " ['BREAD', 'SUGER', 'BOURNVITA'],\n",
       " ['BREAD', 'COFFEE', 'SUGER'],\n",
       " ['BREAD', 'COFFEE', 'SUGER'],\n",
       " ['TEA', 'MILK', 'COFFEE', 'CORNFLAKES']]"
      ]
     },
     "execution_count": 100,
     "metadata": {},
     "output_type": "execute_result"
    }
   ],
   "source": [
    "l"
   ]
  },
  {
   "cell_type": "code",
   "execution_count": null,
   "metadata": {},
   "outputs": [],
   "source": [
    "def createC1(dataSet):\n",
    "    C1 = []\n",
    "    for transaction in dataSet:\n",
    "        for item in transaction:\n",
    "            if not [item] in C1:\n",
    "                C1.append([item])\n",
    "    C1.sort()\n",
    "    return list(map(frozenset, C1))\n"
   ]
  },
  {
   "cell_type": "code",
   "execution_count": 81,
   "metadata": {},
   "outputs": [
    {
     "data": {
      "text/plain": [
       "[frozenset({'BISCUIT'}),\n",
       " frozenset({'BOURNVITA'}),\n",
       " frozenset({'BREAD'}),\n",
       " frozenset({'COCK'}),\n",
       " frozenset({'COFFEE'}),\n",
       " frozenset({'CORNFLAKES'}),\n",
       " frozenset({'JAM'}),\n",
       " frozenset({'MAGGI'}),\n",
       " frozenset({'MILK'}),\n",
       " frozenset({'SUGER'}),\n",
       " frozenset({'TEA'})]"
      ]
     },
     "execution_count": 81,
     "metadata": {},
     "output_type": "execute_result"
    }
   ],
   "source": [
    "createC1(l)"
   ]
  },
  {
   "cell_type": "code",
   "execution_count": 82,
   "metadata": {},
   "outputs": [],
   "source": [
    "def scanD(D, Ck, minSupport):\n",
    "    ssCnt = {}\n",
    "    for tid in D:\n",
    "        for can in Ck:\n",
    "            if can.issubset(tid):\n",
    "                if not can in ssCnt: ssCnt[can] = 1\n",
    "                else: ssCnt[can] += 1\n",
    "                    \n",
    "    numItems = float(len(D))\n",
    "    retList = []\n",
    "    supportData = {}\n",
    "    for key in ssCnt:\n",
    "        support = ssCnt[key]/numItems\n",
    "        supportData[key] = support\n",
    "        if support >= minSupport:\n",
    "            retList.insert(0,key)\n",
    "    return retList,supportData"
   ]
  },
  {
   "cell_type": "code",
   "execution_count": 84,
   "metadata": {},
   "outputs": [
    {
     "data": {
      "text/plain": [
       "[['MILK', 'BREAD', 'BISCUIT'],\n",
       " ['BREAD', 'MILK', 'BISCUIT', 'CORNFLAKES'],\n",
       " ['BREAD', 'TEA', 'BOURNVITA'],\n",
       " ['JAM', 'MAGGI', 'BREAD', 'MILK'],\n",
       " ['MAGGI', 'TEA', 'BISCUIT'],\n",
       " ['BREAD', 'TEA', 'BOURNVITA'],\n",
       " ['MAGGI', 'TEA', 'CORNFLAKES'],\n",
       " ['MAGGI', 'BREAD', 'TEA', 'BISCUIT'],\n",
       " ['JAM', 'MAGGI', 'BREAD', 'TEA'],\n",
       " ['BREAD', 'MILK'],\n",
       " ['COFFEE', 'COCK', 'BISCUIT', 'CORNFLAKES'],\n",
       " ['COFFEE', 'COCK', 'BISCUIT', 'CORNFLAKES'],\n",
       " ['COFFEE', 'SUGER', 'BOURNVITA'],\n",
       " ['BREAD', 'COFFEE', 'COCK'],\n",
       " ['BREAD', 'SUGER', 'BISCUIT'],\n",
       " ['COFFEE', 'SUGER', 'CORNFLAKES'],\n",
       " ['BREAD', 'SUGER', 'BOURNVITA'],\n",
       " ['BREAD', 'COFFEE', 'SUGER'],\n",
       " ['BREAD', 'COFFEE', 'SUGER'],\n",
       " ['TEA', 'MILK', 'COFFEE', 'CORNFLAKES']]"
      ]
     },
     "execution_count": 84,
     "metadata": {},
     "output_type": "execute_result"
    }
   ],
   "source": [
    "dataSet = l\n",
    "dataSet"
   ]
  },
  {
   "cell_type": "code",
   "execution_count": 85,
   "metadata": {},
   "outputs": [
    {
     "data": {
      "text/plain": [
       "[frozenset({'BISCUIT'}),\n",
       " frozenset({'BOURNVITA'}),\n",
       " frozenset({'BREAD'}),\n",
       " frozenset({'COCK'}),\n",
       " frozenset({'COFFEE'}),\n",
       " frozenset({'CORNFLAKES'}),\n",
       " frozenset({'JAM'}),\n",
       " frozenset({'MAGGI'}),\n",
       " frozenset({'MILK'}),\n",
       " frozenset({'SUGER'}),\n",
       " frozenset({'TEA'})]"
      ]
     },
     "execution_count": 85,
     "metadata": {},
     "output_type": "execute_result"
    }
   ],
   "source": [
    "C1 = createC1(dataSet)\n",
    "C1"
   ]
  },
  {
   "cell_type": "code",
   "execution_count": 86,
   "metadata": {},
   "outputs": [
    {
     "data": {
      "text/plain": [
       "[{'BISCUIT', 'BREAD', 'MILK'},\n",
       " {'BISCUIT', 'BREAD', 'CORNFLAKES', 'MILK'},\n",
       " {'BOURNVITA', 'BREAD', 'TEA'},\n",
       " {'BREAD', 'JAM', 'MAGGI', 'MILK'},\n",
       " {'BISCUIT', 'MAGGI', 'TEA'},\n",
       " {'BOURNVITA', 'BREAD', 'TEA'},\n",
       " {'CORNFLAKES', 'MAGGI', 'TEA'},\n",
       " {'BISCUIT', 'BREAD', 'MAGGI', 'TEA'},\n",
       " {'BREAD', 'JAM', 'MAGGI', 'TEA'},\n",
       " {'BREAD', 'MILK'},\n",
       " {'BISCUIT', 'COCK', 'COFFEE', 'CORNFLAKES'},\n",
       " {'BISCUIT', 'COCK', 'COFFEE', 'CORNFLAKES'},\n",
       " {'BOURNVITA', 'COFFEE', 'SUGER'},\n",
       " {'BREAD', 'COCK', 'COFFEE'},\n",
       " {'BISCUIT', 'BREAD', 'SUGER'},\n",
       " {'COFFEE', 'CORNFLAKES', 'SUGER'},\n",
       " {'BOURNVITA', 'BREAD', 'SUGER'},\n",
       " {'BREAD', 'COFFEE', 'SUGER'},\n",
       " {'BREAD', 'COFFEE', 'SUGER'},\n",
       " {'COFFEE', 'CORNFLAKES', 'MILK', 'TEA'}]"
      ]
     },
     "execution_count": 86,
     "metadata": {},
     "output_type": "execute_result"
    }
   ],
   "source": [
    "D = list(map(set,dataSet))\n",
    "D"
   ]
  },
  {
   "cell_type": "code",
   "execution_count": 87,
   "metadata": {},
   "outputs": [
    {
     "data": {
      "text/plain": [
       "[frozenset({'SUGER'}),\n",
       " frozenset({'COFFEE'}),\n",
       " frozenset({'COCK'}),\n",
       " frozenset({'MAGGI'}),\n",
       " frozenset({'JAM'}),\n",
       " frozenset({'TEA'}),\n",
       " frozenset({'BOURNVITA'}),\n",
       " frozenset({'CORNFLAKES'}),\n",
       " frozenset({'MILK'}),\n",
       " frozenset({'BREAD'}),\n",
       " frozenset({'BISCUIT'})]"
      ]
     },
     "execution_count": 87,
     "metadata": {},
     "output_type": "execute_result"
    }
   ],
   "source": [
    "L1,suppDat0 = scanD(D,C1,0.1)\n",
    "L1"
   ]
  },
  {
   "cell_type": "code",
   "execution_count": 88,
   "metadata": {},
   "outputs": [
    {
     "data": {
      "text/plain": [
       "{frozenset({'BISCUIT'}): 0.35,\n",
       " frozenset({'BREAD'}): 0.65,\n",
       " frozenset({'MILK'}): 0.25,\n",
       " frozenset({'CORNFLAKES'}): 0.3,\n",
       " frozenset({'BOURNVITA'}): 0.2,\n",
       " frozenset({'TEA'}): 0.35,\n",
       " frozenset({'JAM'}): 0.1,\n",
       " frozenset({'MAGGI'}): 0.25,\n",
       " frozenset({'COCK'}): 0.15,\n",
       " frozenset({'COFFEE'}): 0.4,\n",
       " frozenset({'SUGER'}): 0.3}"
      ]
     },
     "execution_count": 88,
     "metadata": {},
     "output_type": "execute_result"
    }
   ],
   "source": [
    "suppDat0"
   ]
  },
  {
   "cell_type": "code",
   "execution_count": 89,
   "metadata": {},
   "outputs": [],
   "source": [
    "def aprioriGen(Lk, k):\n",
    "    retList = []\n",
    "    lenLk = len(Lk)\n",
    "    for i in range(lenLk):\n",
    "        for j in range(i+1,lenLk):\n",
    "            L1 = list(Lk[i])[:k-2]\n",
    "            L2 = list(Lk[j])[:k-2]\n",
    "            L1.sort(); L2.sort()\n",
    "            if L1 == L2:\n",
    "                retList.append(Lk[i] | Lk[j]) \n",
    "    return retList"
   ]
  },
  {
   "cell_type": "code",
   "execution_count": 90,
   "metadata": {},
   "outputs": [],
   "source": [
    "\n",
    "def apriori(dataSet, minSupport):\n",
    "    C1 = createC1(dataSet)\n",
    "    D = list(map(set,dataSet))\n",
    "    L1, supportData = scanD(D,C1,minSupport)\n",
    "    L = [L1]\n",
    "    k = 2\n",
    "    while (len(L[k-2]) > 0):\n",
    "        Ck = aprioriGen(L[k-2],k)\n",
    "        Lk, supK = scanD(D, Ck, minSupport)\n",
    "        supportData.update(supK)\n",
    "        L.append(Lk)\n",
    "        k += 1\n",
    "    return L, supportData\n",
    "\n"
   ]
  },
  {
   "cell_type": "code",
   "execution_count": 91,
   "metadata": {},
   "outputs": [],
   "source": [
    "def generateRules(L, supportData, minConf):\n",
    "    bigRuleList = []\n",
    "    for i in range(1,len(L)):\n",
    "        for freqSet in L[i]:\n",
    "            H1 = [frozenset([item]) for item in freqSet]\n",
    "            if i>1:\n",
    "                rulesFromConseq(freqSet, H1, supportData, bigRuleList,minConf)\n",
    "            else:\n",
    "                prunedH = calcConf(freqSet,H1,supportData,bigRuleList,minConf)\n",
    "    return bigRuleList                "
   ]
  },
  {
   "cell_type": "code",
   "execution_count": 92,
   "metadata": {},
   "outputs": [],
   "source": [
    "def calcConf(freqSet, H, supportData,brl,minConf):\n",
    "    prunedH = []\n",
    "    for conseq in H:\n",
    "        conf = supportData[freqSet]/supportData[freqSet - conseq]\n",
    "        if conf >= minConf:\n",
    "            print(freqSet-conseq, \" --> \", conseq, \"conf: \", conf)\n",
    "            brl.append((freqSet-conseq , conseq, conf))\n",
    "            prunedH.append(conseq)\n",
    "    return prunedH"
   ]
  },
  {
   "cell_type": "code",
   "execution_count": 93,
   "metadata": {},
   "outputs": [],
   "source": [
    "def rulesFromConseq(freqSet, H, supportData, brl, minConf):\n",
    "    m = len(H[0])\n",
    "    if (len(freqSet) > (m+1)):\n",
    "        Hmp1 = aprioriGen(H,m+1)\n",
    "        Hmp1 = calcConf(freqSet, Hmp1, supportData,brl,minConf)\n",
    "        \n",
    "        if (len(Hmp1) > 1):\n",
    "            rulesFromConseq(freqSet, Hmp1, supportData,brl,minConf)"
   ]
  },
  {
   "cell_type": "code",
   "execution_count": 94,
   "metadata": {},
   "outputs": [],
   "source": [
    "L, suppData = apriori(dataSet,minSupport=0.1)"
   ]
  },
  {
   "cell_type": "code",
   "execution_count": 96,
   "metadata": {},
   "outputs": [
    {
     "name": "stdout",
     "output_type": "stream",
     "text": [
      "frozenset({'SUGER'})  -->  frozenset({'BREAD'}) conf:  0.6666666666666667\n",
      "frozenset({'BOURNVITA'})  -->  frozenset({'SUGER'}) conf:  0.5\n",
      "frozenset({'SUGER'})  -->  frozenset({'COFFEE'}) conf:  0.6666666666666667\n",
      "frozenset({'COFFEE'})  -->  frozenset({'SUGER'}) conf:  0.5\n",
      "frozenset({'COCK'})  -->  frozenset({'BISCUIT'}) conf:  0.6666666666666667\n",
      "frozenset({'COCK'})  -->  frozenset({'CORNFLAKES'}) conf:  0.6666666666666667\n",
      "frozenset({'CORNFLAKES'})  -->  frozenset({'COFFEE'}) conf:  0.6666666666666667\n",
      "frozenset({'COFFEE'})  -->  frozenset({'CORNFLAKES'}) conf:  0.5\n",
      "frozenset({'COCK'})  -->  frozenset({'COFFEE'}) conf:  1.0\n",
      "frozenset({'MAGGI'})  -->  frozenset({'BISCUIT'}) conf:  0.4\n",
      "frozenset({'TEA'})  -->  frozenset({'MAGGI'}) conf:  0.5714285714285715\n",
      "frozenset({'MAGGI'})  -->  frozenset({'TEA'}) conf:  0.8\n",
      "frozenset({'JAM'})  -->  frozenset({'BREAD'}) conf:  1.0\n",
      "frozenset({'MAGGI'})  -->  frozenset({'BREAD'}) conf:  0.6\n",
      "frozenset({'MAGGI'})  -->  frozenset({'JAM'}) conf:  0.4\n",
      "frozenset({'JAM'})  -->  frozenset({'MAGGI'}) conf:  1.0\n",
      "frozenset({'BOURNVITA'})  -->  frozenset({'BREAD'}) conf:  0.7499999999999999\n",
      "frozenset({'TEA'})  -->  frozenset({'BREAD'}) conf:  0.5714285714285715\n",
      "frozenset({'BOURNVITA'})  -->  frozenset({'TEA'}) conf:  0.5\n",
      "frozenset({'CORNFLAKES'})  -->  frozenset({'BISCUIT'}) conf:  0.5\n",
      "frozenset({'BISCUIT'})  -->  frozenset({'CORNFLAKES'}) conf:  0.4285714285714286\n",
      "frozenset({'MILK'})  -->  frozenset({'CORNFLAKES'}) conf:  0.4\n",
      "frozenset({'BISCUIT'})  -->  frozenset({'BREAD'}) conf:  0.5714285714285715\n",
      "frozenset({'MILK'})  -->  frozenset({'BISCUIT'}) conf:  0.4\n",
      "frozenset({'MILK'})  -->  frozenset({'BREAD'}) conf:  0.8\n",
      "frozenset({'COCK'})  -->  frozenset({'COFFEE', 'CORNFLAKES'}) conf:  0.6666666666666667\n",
      "frozenset({'COCK'})  -->  frozenset({'COFFEE', 'BISCUIT'}) conf:  0.6666666666666667\n",
      "frozenset({'COCK'})  -->  frozenset({'BISCUIT', 'CORNFLAKES'}) conf:  0.6666666666666667\n",
      "frozenset({'MAGGI'})  -->  frozenset({'BREAD', 'TEA'}) conf:  0.4\n",
      "frozenset({'MAGGI'})  -->  frozenset({'BISCUIT', 'TEA'}) conf:  0.4\n",
      "frozenset({'MAGGI'})  -->  frozenset({'BREAD', 'JAM'}) conf:  0.4\n",
      "frozenset({'JAM'})  -->  frozenset({'BREAD', 'MAGGI'}) conf:  1.0\n",
      "frozenset({'BOURNVITA'})  -->  frozenset({'BREAD', 'TEA'}) conf:  0.5\n",
      "frozenset({'MILK'})  -->  frozenset({'BREAD', 'BISCUIT'}) conf:  0.4\n",
      "frozenset({'CORNFLAKES', 'COCK'})  -->  frozenset({'COFFEE', 'BISCUIT'}) conf:  1.0\n",
      "frozenset({'BISCUIT', 'COCK'})  -->  frozenset({'COFFEE', 'CORNFLAKES'}) conf:  1.0\n",
      "frozenset({'BISCUIT', 'CORNFLAKES'})  -->  frozenset({'COFFEE', 'COCK'}) conf:  0.6666666666666667\n",
      "frozenset({'COFFEE', 'COCK'})  -->  frozenset({'BISCUIT', 'CORNFLAKES'}) conf:  0.6666666666666667\n",
      "frozenset({'COFFEE', 'CORNFLAKES'})  -->  frozenset({'BISCUIT', 'COCK'}) conf:  0.5\n",
      "frozenset({'COFFEE', 'BISCUIT'})  -->  frozenset({'CORNFLAKES', 'COCK'}) conf:  1.0\n",
      "frozenset({'COCK'})  -->  frozenset({'COFFEE', 'BISCUIT', 'CORNFLAKES'}) conf:  0.6666666666666667\n"
     ]
    }
   ],
   "source": [
    "rules = generateRules(L, suppData, minConf = 0.4)"
   ]
  },
  {
   "cell_type": "code",
   "execution_count": 97,
   "metadata": {},
   "outputs": [
    {
     "data": {
      "text/plain": [
       "[[frozenset({'SUGER'}),\n",
       "  frozenset({'COFFEE'}),\n",
       "  frozenset({'COCK'}),\n",
       "  frozenset({'MAGGI'}),\n",
       "  frozenset({'JAM'}),\n",
       "  frozenset({'TEA'}),\n",
       "  frozenset({'BOURNVITA'}),\n",
       "  frozenset({'CORNFLAKES'}),\n",
       "  frozenset({'MILK'}),\n",
       "  frozenset({'BREAD'}),\n",
       "  frozenset({'BISCUIT'})],\n",
       " [frozenset({'BREAD', 'SUGER'}),\n",
       "  frozenset({'BREAD', 'COFFEE'}),\n",
       "  frozenset({'BOURNVITA', 'SUGER'}),\n",
       "  frozenset({'COFFEE', 'SUGER'}),\n",
       "  frozenset({'BISCUIT', 'COCK'}),\n",
       "  frozenset({'COCK', 'CORNFLAKES'}),\n",
       "  frozenset({'BISCUIT', 'COFFEE'}),\n",
       "  frozenset({'COFFEE', 'CORNFLAKES'}),\n",
       "  frozenset({'COCK', 'COFFEE'}),\n",
       "  frozenset({'CORNFLAKES', 'TEA'}),\n",
       "  frozenset({'BISCUIT', 'TEA'}),\n",
       "  frozenset({'BISCUIT', 'MAGGI'}),\n",
       "  frozenset({'MAGGI', 'TEA'}),\n",
       "  frozenset({'BREAD', 'JAM'}),\n",
       "  frozenset({'BREAD', 'MAGGI'}),\n",
       "  frozenset({'JAM', 'MAGGI'}),\n",
       "  frozenset({'BOURNVITA', 'BREAD'}),\n",
       "  frozenset({'BREAD', 'TEA'}),\n",
       "  frozenset({'BOURNVITA', 'TEA'}),\n",
       "  frozenset({'BISCUIT', 'CORNFLAKES'}),\n",
       "  frozenset({'CORNFLAKES', 'MILK'}),\n",
       "  frozenset({'BISCUIT', 'BREAD'}),\n",
       "  frozenset({'BISCUIT', 'MILK'}),\n",
       "  frozenset({'BREAD', 'MILK'})],\n",
       " [frozenset({'BREAD', 'COFFEE', 'SUGER'}),\n",
       "  frozenset({'COCK', 'COFFEE', 'CORNFLAKES'}),\n",
       "  frozenset({'BISCUIT', 'COCK', 'COFFEE'}),\n",
       "  frozenset({'BISCUIT', 'COFFEE', 'CORNFLAKES'}),\n",
       "  frozenset({'BISCUIT', 'COCK', 'CORNFLAKES'}),\n",
       "  frozenset({'BREAD', 'MAGGI', 'TEA'}),\n",
       "  frozenset({'BISCUIT', 'MAGGI', 'TEA'}),\n",
       "  frozenset({'BREAD', 'JAM', 'MAGGI'}),\n",
       "  frozenset({'BOURNVITA', 'BREAD', 'TEA'}),\n",
       "  frozenset({'BISCUIT', 'BREAD', 'MILK'})],\n",
       " [frozenset({'BISCUIT', 'COCK', 'COFFEE', 'CORNFLAKES'})],\n",
       " []]"
      ]
     },
     "execution_count": 97,
     "metadata": {},
     "output_type": "execute_result"
    }
   ],
   "source": [
    "L"
   ]
  },
  {
   "cell_type": "code",
   "execution_count": null,
   "metadata": {},
   "outputs": [],
   "source": []
  },
  {
   "cell_type": "code",
   "execution_count": null,
   "metadata": {},
   "outputs": [],
   "source": []
  },
  {
   "cell_type": "code",
   "execution_count": null,
   "metadata": {},
   "outputs": [],
   "source": []
  },
  {
   "cell_type": "code",
   "execution_count": null,
   "metadata": {},
   "outputs": [],
   "source": []
  },
  {
   "cell_type": "code",
   "execution_count": null,
   "metadata": {},
   "outputs": [],
   "source": []
  },
  {
   "cell_type": "code",
   "execution_count": null,
   "metadata": {},
   "outputs": [],
   "source": []
  },
  {
   "cell_type": "code",
   "execution_count": null,
   "metadata": {},
   "outputs": [],
   "source": []
  },
  {
   "cell_type": "code",
   "execution_count": null,
   "metadata": {},
   "outputs": [],
   "source": []
  },
  {
   "cell_type": "code",
   "execution_count": null,
   "metadata": {},
   "outputs": [],
   "source": []
  },
  {
   "cell_type": "code",
   "execution_count": null,
   "metadata": {},
   "outputs": [],
   "source": []
  }
 ],
 "metadata": {
  "kernelspec": {
   "display_name": "Python 3",
   "language": "python",
   "name": "python3"
  },
  "language_info": {
   "codemirror_mode": {
    "name": "ipython",
    "version": 3
   },
   "file_extension": ".py",
   "mimetype": "text/x-python",
   "name": "python",
   "nbconvert_exporter": "python",
   "pygments_lexer": "ipython3",
   "version": "3.6.10"
  }
 },
 "nbformat": 4,
 "nbformat_minor": 4
}
